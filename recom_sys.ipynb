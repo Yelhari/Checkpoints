{
 "cells": [
  {
   "cell_type": "markdown",
   "metadata": {},
   "source": [
    "### 1. Describe the difference between content-based and collaborative-filtering recommendation systems. Be sure to explain the role that *similarity* plays in each."
   ]
  },
  {
   "cell_type": "markdown",
   "metadata": {},
   "source": [
    "# Your answer here\n",
    "The content-based strategy  is to recommend items to a user that are similar to items that the user has already enjoyed while the collaborative-filtering is is to recommend items to a user based on what similar users have enjoyed \n"
   ]
  },
  {
   "cell_type": "markdown",
   "metadata": {},
   "source": [
    "### 2. What is the singular value decomposition and how is it relevant to recommendation systems?"
   ]
  },
  {
   "cell_type": "code",
   "execution_count": 7,
   "metadata": {},
   "outputs": [],
   "source": [
    "# Your answer here\n",
    "The SVD, much like PCA, can be used to reduce the dimensionality of your data.The singular vectors that correspond to larger singular values capture more of the variance in our data\n"
   ]
  },
  {
   "cell_type": "markdown",
   "metadata": {},
   "source": [
    "### 3. How is the method of Alternating Least Squares related to the method of Ordinary Least Squares (that we use in linear regression)?"
   ]
  },
  {
   "cell_type": "markdown",
   "metadata": {},
   "source": [
    "# Your answer here\n",
    "We start the sparse Matrix of users-ratings R, we factore it into a user matrix  𝑃  and an item matrix Q.The goal is Make guesses of the values for  𝑃  and  𝑄. Then hold the values of one constant so that we can optimize for the values of the other.The ALS model based methode that help us to predict the rating of users with minimum errors."
   ]
  },
  {
   "cell_type": "markdown",
   "metadata": {},
   "source": [
    "### 4. Calculate Cosine Similarity\n",
    "\n",
    "Suppose we have a database that represents films as rows, the columns representing the presence or absence of certain actors, directors, genres, etc. Below are the first three rows in this database:"
   ]
  },
  {
   "cell_type": "code",
   "execution_count": 3,
   "metadata": {},
   "outputs": [
    {
     "data": {
      "text/plain": [
       "array([[0, 1, 0, 1, 1, 1],\n",
       "       [0, 0, 1, 1, 1, 0],\n",
       "       [0, 0, 0, 0, 1, 1]])"
      ]
     },
     "execution_count": 3,
     "metadata": {},
     "output_type": "execute_result"
    }
   ],
   "source": [
    "import numpy as np\n",
    "\n",
    "films = np.array([[0, 1, 0, 1, 1, 1], [0, 0, 1, 1, 1, 0], [0, 0, 0, 0, 1, 1]]).reshape(3, -1)\n",
    "films"
   ]
  },
  {
   "cell_type": "markdown",
   "metadata": {},
   "source": [
    "Cristian was a big fan of the movie represented by Row \\#1 but hasn't seen either of the other two. Based on cosine similarity, should we recommend the movie represented by Row \\#2 or the movie represented by Row \\#3?\n",
    "\n",
    "Recall that the cosine of the angle $\\theta$ between two vectors $\\vec{v_1}$ and $\\vec{v_2}$ can be expresed in terms of the dot product of the vectors and the vectors' magnitudes:\n",
    "\n",
    "$\\cos(\\theta) = \\frac{\\vec{v_1}\\cdot\\vec{v_2}}{|\\vec{v_1}||\\vec{v_2}|}$"
   ]
  },
  {
   "cell_type": "code",
   "execution_count": 8,
   "metadata": {},
   "outputs": [
    {
     "data": {
      "text/plain": [
       "array([0.57735027, 0.70710678])"
      ]
     },
     "execution_count": 8,
     "metadata": {},
     "output_type": "execute_result"
    }
   ],
   "source": [
    "# Your answer here\n",
    "\n",
    "numerators = np.array([films[0].dot(films[i]) for i in range(1, 3)])\n",
    "denominators = np.array([np.sqrt(sum(films[0]**2)) *\\\n",
    "                         np.sqrt(sum(films[i]**2)) for i in range(1,3)])\n",
    "\n",
    "numerators / denominators"
   ]
  },
  {
   "cell_type": "code",
   "execution_count": 9,
   "metadata": {},
   "outputs": [
    {
     "ename": "SyntaxError",
     "evalue": "invalid syntax (<ipython-input-9-05062e01b3cf>, line 1)",
     "output_type": "error",
     "traceback": [
      "\u001b[0;36m  File \u001b[0;32m\"<ipython-input-9-05062e01b3cf>\"\u001b[0;36m, line \u001b[0;32m1\u001b[0m\n\u001b[0;31m    Since the cosine similarity to Row #1 is lowest for Row #2, we would recommend this film. SInce cos is a descending fonction\u001b[0m\n\u001b[0m            ^\u001b[0m\n\u001b[0;31mSyntaxError\u001b[0m\u001b[0;31m:\u001b[0m invalid syntax\n"
     ]
    }
   ],
   "source": [
    "Since the cosine similarity to Row #1 is lowest for Row #2, we would recommend this film. SInce cos is a descending fonction"
   ]
  },
  {
   "cell_type": "markdown",
   "metadata": {},
   "source": []
  }
 ],
 "metadata": {
  "kernelspec": {
   "display_name": "Python 3",
   "language": "python",
   "name": "python3"
  },
  "language_info": {
   "codemirror_mode": {
    "name": "ipython",
    "version": 3
   },
   "file_extension": ".py",
   "mimetype": "text/x-python",
   "name": "python",
   "nbconvert_exporter": "python",
   "pygments_lexer": "ipython3",
   "version": "3.7.4"
  }
 },
 "nbformat": 4,
 "nbformat_minor": 4
}
